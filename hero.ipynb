{
 "cells": [
  {
   "cell_type": "code",
   "execution_count": null,
   "id": "ff2b16fd-c0b8-4fdf-a9ae-7a9f4d50d281",
   "metadata": {},
   "outputs": [],
   "source": [
    "import random\n",
    "from character import Character\n",
    "\n",
    "class Hero(Character):\n",
    "    def __init__(self):\n",
    "        super().__init__()\n",
    "\n",
    "    def hero_attacks(self):\n",
    "        attack_value = random.randint(5, 15)\n",
    "        print(f\"Hero attacks with power {attack_value}!\")\n",
    "        return attack_value\n",
    "\n",
    "    def __del__(self):\n",
    "        print(\"The Hero object is being destroyed by the garbage collector.\")\n",
    "        super().__del__()\n"
   ]
  }
 ],
 "metadata": {
  "kernelspec": {
   "display_name": "Python 3 (ipykernel)",
   "language": "python",
   "name": "python3"
  },
  "language_info": {
   "codemirror_mode": {
    "name": "ipython",
    "version": 3
   },
   "file_extension": ".py",
   "mimetype": "text/x-python",
   "name": "python",
   "nbconvert_exporter": "python",
   "pygments_lexer": "ipython3",
   "version": "3.13.2"
  }
 },
 "nbformat": 4,
 "nbformat_minor": 5
}
