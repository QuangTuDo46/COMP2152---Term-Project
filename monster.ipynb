{
 "cells": [
  {
   "cell_type": "code",
   "execution_count": null,
   "id": "ab3c765e-036d-4361-b910-440821af90c4",
   "metadata": {},
   "outputs": [],
   "source": [
    "import random\n",
    "from character import Character\n",
    "\n",
    "class Monster(Character):\n",
    "    def __init__(self):\n",
    "        super().__init__()\n",
    "\n",
    "    def monster_attacks(self):\n",
    "        attack_value = random.randint(3, 12)\n",
    "        print(f\"Monster attacks with power {attack_value}!\")\n",
    "        return attack_value\n",
    "\n",
    "    def __del__(self):\n",
    "        print(\"The Monster object is being destroyed by the garbage collector.\")\n",
    "        super().__del__()\n"
   ]
  }
 ],
 "metadata": {
  "kernelspec": {
   "display_name": "Python 3 (ipykernel)",
   "language": "python",
   "name": "python3"
  },
  "language_info": {
   "codemirror_mode": {
    "name": "ipython",
    "version": 3
   },
   "file_extension": ".py",
   "mimetype": "text/x-python",
   "name": "python",
   "nbconvert_exporter": "python",
   "pygments_lexer": "ipython3",
   "version": "3.13.2"
  }
 },
 "nbformat": 4,
 "nbformat_minor": 5
}
