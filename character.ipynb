{
 "cells": [
  {
   "cell_type": "code",
   "execution_count": null,
   "id": "1c317c50-493f-4ac4-a51a-dce222538e8e",
   "metadata": {},
   "outputs": [],
   "source": [
    "import random\n",
    "\n",
    "class Character:\n",
    "    def __init__(self):\n",
    "        self._combat_strength = random.randint(10, 20)\n",
    "        self._health_points = random.randint(50, 100)\n",
    "\n",
    "    @property\n",
    "    def combat_strength(self):\n",
    "        return self._combat_strength\n",
    "\n",
    "    @combat_strength.setter\n",
    "    def combat_strength(self, value):\n",
    "        if value < 0:\n",
    "            raise ValueError(\"Combat strength cannot be negative.\")\n",
    "        self._combat_strength = value\n",
    "\n",
    "    @property\n",
    "    def health_points(self):\n",
    "        return self._health_points\n",
    "\n",
    "    @health_points.setter\n",
    "    def health_points(self, value):\n",
    "        if value < 0:\n",
    "            raise ValueError(\"Health points cannot be negative.\")\n",
    "        self._health_points = value\n",
    "\n",
    "    def __del__(self):\n",
    "        print(\"The Character object is being destroyed by the garbage collector.\")\n"
   ]
  }
 ],
 "metadata": {
  "kernelspec": {
   "display_name": "Python 3 (ipykernel)",
   "language": "python",
   "name": "python3"
  },
  "language_info": {
   "codemirror_mode": {
    "name": "ipython",
    "version": 3
   },
   "file_extension": ".py",
   "mimetype": "text/x-python",
   "name": "python",
   "nbconvert_exporter": "python",
   "pygments_lexer": "ipython3",
   "version": "3.13.2"
  }
 },
 "nbformat": 4,
 "nbformat_minor": 5
}
